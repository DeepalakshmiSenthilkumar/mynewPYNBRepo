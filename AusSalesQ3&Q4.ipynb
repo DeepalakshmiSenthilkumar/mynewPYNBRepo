{
 "cells": [
  {
   "cell_type": "code",
   "execution_count": 3,
   "id": "a98911de-f52c-4c4c-95f5-e10091e01ba3",
   "metadata": {},
   "outputs": [],
   "source": [
    "import pandas as pd\n",
    "#pd.set_option('display.max_rows',False)\n",
    "pd.set_option('display.max_columns',None)\n",
    "import numpy as np\n",
    "import seaborn as sns\n",
    "import matplotlib.pyplot as plt\n",
    "df = pd.read_csv('C:\\\\Users\\\\sdeep\\\\OneDrive\\\\Documents\\\\PGC AIML\\\\AusApparalSales4thQrt2020.csv')"
   ]
  },
  {
   "cell_type": "code",
   "execution_count": 5,
   "id": "ccdc687e-173e-4758-944f-9d0fdf7e7a15",
   "metadata": {},
   "outputs": [],
   "source": [
    "df_working = df"
   ]
  },
  {
   "cell_type": "code",
   "execution_count": 8,
   "id": "f9e7936f-945b-49fd-911a-930ecd5f6630",
   "metadata": {},
   "outputs": [
    {
     "name": "stdout",
     "output_type": "stream",
     "text": [
      "Date     0\n",
      "Time     0\n",
      "State    0\n",
      "Group    0\n",
      "Unit     0\n",
      "Sales    0\n",
      "dtype: int64\n"
     ]
    }
   ],
   "source": [
    "sum_nulls = df_working.isnull().sum()\n",
    "print(sum_nulls)"
   ]
  },
  {
   "cell_type": "code",
   "execution_count": 11,
   "id": "88f36c12-7944-463f-b020-90e9c0f80fdb",
   "metadata": {},
   "outputs": [
    {
     "data": {
      "text/html": [
       "<div>\n",
       "<style scoped>\n",
       "    .dataframe tbody tr th:only-of-type {\n",
       "        vertical-align: middle;\n",
       "    }\n",
       "\n",
       "    .dataframe tbody tr th {\n",
       "        vertical-align: top;\n",
       "    }\n",
       "\n",
       "    .dataframe thead th {\n",
       "        text-align: right;\n",
       "    }\n",
       "</style>\n",
       "<table border=\"1\" class=\"dataframe\">\n",
       "  <thead>\n",
       "    <tr style=\"text-align: right;\">\n",
       "      <th></th>\n",
       "      <th>Unit</th>\n",
       "      <th>Sales</th>\n",
       "    </tr>\n",
       "  </thead>\n",
       "  <tbody>\n",
       "    <tr>\n",
       "      <th>count</th>\n",
       "      <td>7560.000000</td>\n",
       "      <td>7560.000000</td>\n",
       "    </tr>\n",
       "    <tr>\n",
       "      <th>mean</th>\n",
       "      <td>18.005423</td>\n",
       "      <td>45013.558201</td>\n",
       "    </tr>\n",
       "    <tr>\n",
       "      <th>std</th>\n",
       "      <td>12.901403</td>\n",
       "      <td>32253.506944</td>\n",
       "    </tr>\n",
       "    <tr>\n",
       "      <th>min</th>\n",
       "      <td>2.000000</td>\n",
       "      <td>5000.000000</td>\n",
       "    </tr>\n",
       "    <tr>\n",
       "      <th>25%</th>\n",
       "      <td>8.000000</td>\n",
       "      <td>20000.000000</td>\n",
       "    </tr>\n",
       "    <tr>\n",
       "      <th>50%</th>\n",
       "      <td>14.000000</td>\n",
       "      <td>35000.000000</td>\n",
       "    </tr>\n",
       "    <tr>\n",
       "      <th>75%</th>\n",
       "      <td>26.000000</td>\n",
       "      <td>65000.000000</td>\n",
       "    </tr>\n",
       "    <tr>\n",
       "      <th>max</th>\n",
       "      <td>65.000000</td>\n",
       "      <td>162500.000000</td>\n",
       "    </tr>\n",
       "  </tbody>\n",
       "</table>\n",
       "</div>"
      ],
      "text/plain": [
       "              Unit          Sales\n",
       "count  7560.000000    7560.000000\n",
       "mean     18.005423   45013.558201\n",
       "std      12.901403   32253.506944\n",
       "min       2.000000    5000.000000\n",
       "25%       8.000000   20000.000000\n",
       "50%      14.000000   35000.000000\n",
       "75%      26.000000   65000.000000\n",
       "max      65.000000  162500.000000"
      ]
     },
     "execution_count": 11,
     "metadata": {},
     "output_type": "execute_result"
    }
   ],
   "source": [
    "df_working.describe()"
   ]
  },
  {
   "cell_type": "code",
   "execution_count": 14,
   "id": "7ca4bae2-62b1-493b-83d8-513294102546",
   "metadata": {},
   "outputs": [
    {
     "name": "stdout",
     "output_type": "stream",
     "text": [
      "object\n"
     ]
    }
   ],
   "source": [
    "print(df_working['Date'].dtype)"
   ]
  },
  {
   "cell_type": "code",
   "execution_count": 18,
   "id": "ec3d727c-8cb1-46a3-8113-6ac9f6da7813",
   "metadata": {},
   "outputs": [],
   "source": [
    "df_working['Date'] = pd.to_datetime(df['Date'])\n",
    "df_working['DateAlone'] = df_working['Date'].dt.day\n",
    "#print(df_working['DateAlone'],'DateAlone')\n",
    "df_working['Month'] = df_working['Date'].dt.month\n",
    "#print(df_working['Month'])"
   ]
  },
  {
   "cell_type": "code",
   "execution_count": 20,
   "id": "98108793-f9af-4426-9724-0597e8dc43d6",
   "metadata": {},
   "outputs": [
    {
     "data": {
      "text/html": [
       "<div>\n",
       "<style scoped>\n",
       "    .dataframe tbody tr th:only-of-type {\n",
       "        vertical-align: middle;\n",
       "    }\n",
       "\n",
       "    .dataframe tbody tr th {\n",
       "        vertical-align: top;\n",
       "    }\n",
       "\n",
       "    .dataframe thead th {\n",
       "        text-align: right;\n",
       "    }\n",
       "</style>\n",
       "<table border=\"1\" class=\"dataframe\">\n",
       "  <thead>\n",
       "    <tr style=\"text-align: right;\">\n",
       "      <th></th>\n",
       "      <th>Date</th>\n",
       "      <th>Time</th>\n",
       "      <th>State</th>\n",
       "      <th>Group</th>\n",
       "      <th>Unit</th>\n",
       "      <th>Sales</th>\n",
       "      <th>DateAlone</th>\n",
       "      <th>Month</th>\n",
       "    </tr>\n",
       "  </thead>\n",
       "  <tbody>\n",
       "    <tr>\n",
       "      <th>0</th>\n",
       "      <td>2020-10-01</td>\n",
       "      <td>Morning</td>\n",
       "      <td>WA</td>\n",
       "      <td>Kids</td>\n",
       "      <td>8</td>\n",
       "      <td>20000</td>\n",
       "      <td>1</td>\n",
       "      <td>10</td>\n",
       "    </tr>\n",
       "    <tr>\n",
       "      <th>1</th>\n",
       "      <td>2020-10-01</td>\n",
       "      <td>Morning</td>\n",
       "      <td>WA</td>\n",
       "      <td>Men</td>\n",
       "      <td>8</td>\n",
       "      <td>20000</td>\n",
       "      <td>1</td>\n",
       "      <td>10</td>\n",
       "    </tr>\n",
       "    <tr>\n",
       "      <th>2</th>\n",
       "      <td>2020-10-01</td>\n",
       "      <td>Morning</td>\n",
       "      <td>WA</td>\n",
       "      <td>Women</td>\n",
       "      <td>4</td>\n",
       "      <td>10000</td>\n",
       "      <td>1</td>\n",
       "      <td>10</td>\n",
       "    </tr>\n",
       "    <tr>\n",
       "      <th>3</th>\n",
       "      <td>2020-10-01</td>\n",
       "      <td>Morning</td>\n",
       "      <td>WA</td>\n",
       "      <td>Seniors</td>\n",
       "      <td>15</td>\n",
       "      <td>37500</td>\n",
       "      <td>1</td>\n",
       "      <td>10</td>\n",
       "    </tr>\n",
       "    <tr>\n",
       "      <th>4</th>\n",
       "      <td>2020-10-01</td>\n",
       "      <td>Afternoon</td>\n",
       "      <td>WA</td>\n",
       "      <td>Kids</td>\n",
       "      <td>3</td>\n",
       "      <td>7500</td>\n",
       "      <td>1</td>\n",
       "      <td>10</td>\n",
       "    </tr>\n",
       "    <tr>\n",
       "      <th>...</th>\n",
       "      <td>...</td>\n",
       "      <td>...</td>\n",
       "      <td>...</td>\n",
       "      <td>...</td>\n",
       "      <td>...</td>\n",
       "      <td>...</td>\n",
       "      <td>...</td>\n",
       "      <td>...</td>\n",
       "    </tr>\n",
       "    <tr>\n",
       "      <th>7555</th>\n",
       "      <td>2020-12-30</td>\n",
       "      <td>Afternoon</td>\n",
       "      <td>TAS</td>\n",
       "      <td>Seniors</td>\n",
       "      <td>14</td>\n",
       "      <td>35000</td>\n",
       "      <td>30</td>\n",
       "      <td>12</td>\n",
       "    </tr>\n",
       "    <tr>\n",
       "      <th>7556</th>\n",
       "      <td>2020-12-30</td>\n",
       "      <td>Evening</td>\n",
       "      <td>TAS</td>\n",
       "      <td>Kids</td>\n",
       "      <td>15</td>\n",
       "      <td>37500</td>\n",
       "      <td>30</td>\n",
       "      <td>12</td>\n",
       "    </tr>\n",
       "    <tr>\n",
       "      <th>7557</th>\n",
       "      <td>2020-12-30</td>\n",
       "      <td>Evening</td>\n",
       "      <td>TAS</td>\n",
       "      <td>Men</td>\n",
       "      <td>15</td>\n",
       "      <td>37500</td>\n",
       "      <td>30</td>\n",
       "      <td>12</td>\n",
       "    </tr>\n",
       "    <tr>\n",
       "      <th>7558</th>\n",
       "      <td>2020-12-30</td>\n",
       "      <td>Evening</td>\n",
       "      <td>TAS</td>\n",
       "      <td>Women</td>\n",
       "      <td>11</td>\n",
       "      <td>27500</td>\n",
       "      <td>30</td>\n",
       "      <td>12</td>\n",
       "    </tr>\n",
       "    <tr>\n",
       "      <th>7559</th>\n",
       "      <td>2020-12-30</td>\n",
       "      <td>Evening</td>\n",
       "      <td>TAS</td>\n",
       "      <td>Seniors</td>\n",
       "      <td>13</td>\n",
       "      <td>32500</td>\n",
       "      <td>30</td>\n",
       "      <td>12</td>\n",
       "    </tr>\n",
       "  </tbody>\n",
       "</table>\n",
       "<p>7560 rows × 8 columns</p>\n",
       "</div>"
      ],
      "text/plain": [
       "           Date        Time State     Group  Unit  Sales  DateAlone  Month\n",
       "0    2020-10-01     Morning    WA      Kids     8  20000          1     10\n",
       "1    2020-10-01     Morning    WA       Men     8  20000          1     10\n",
       "2    2020-10-01     Morning    WA     Women     4  10000          1     10\n",
       "3    2020-10-01     Morning    WA   Seniors    15  37500          1     10\n",
       "4    2020-10-01   Afternoon    WA      Kids     3   7500          1     10\n",
       "...         ...         ...   ...       ...   ...    ...        ...    ...\n",
       "7555 2020-12-30   Afternoon   TAS   Seniors    14  35000         30     12\n",
       "7556 2020-12-30     Evening   TAS      Kids    15  37500         30     12\n",
       "7557 2020-12-30     Evening   TAS       Men    15  37500         30     12\n",
       "7558 2020-12-30     Evening   TAS     Women    11  27500         30     12\n",
       "7559 2020-12-30     Evening   TAS   Seniors    13  32500         30     12\n",
       "\n",
       "[7560 rows x 8 columns]"
      ]
     },
     "execution_count": 20,
     "metadata": {},
     "output_type": "execute_result"
    }
   ],
   "source": [
    "df_working"
   ]
  },
  {
   "cell_type": "code",
   "execution_count": 23,
   "id": "d6d3b94b-777a-45bb-82a9-a1b02bc37bea",
   "metadata": {},
   "outputs": [
    {
     "data": {
      "text/html": [
       "<div>\n",
       "<style scoped>\n",
       "    .dataframe tbody tr th:only-of-type {\n",
       "        vertical-align: middle;\n",
       "    }\n",
       "\n",
       "    .dataframe tbody tr th {\n",
       "        vertical-align: top;\n",
       "    }\n",
       "\n",
       "    .dataframe thead th {\n",
       "        text-align: right;\n",
       "    }\n",
       "</style>\n",
       "<table border=\"1\" class=\"dataframe\">\n",
       "  <thead>\n",
       "    <tr style=\"text-align: right;\">\n",
       "      <th></th>\n",
       "      <th>Date</th>\n",
       "      <th>Time</th>\n",
       "      <th>State</th>\n",
       "      <th>Group</th>\n",
       "      <th>Unit</th>\n",
       "      <th>Sales</th>\n",
       "      <th>DateAlone</th>\n",
       "      <th>Month</th>\n",
       "      <th>Sales_scaled</th>\n",
       "      <th>Unit_scaled</th>\n",
       "    </tr>\n",
       "  </thead>\n",
       "  <tbody>\n",
       "    <tr>\n",
       "      <th>0</th>\n",
       "      <td>2020-10-01</td>\n",
       "      <td>Morning</td>\n",
       "      <td>WA</td>\n",
       "      <td>Kids</td>\n",
       "      <td>8</td>\n",
       "      <td>20000</td>\n",
       "      <td>1</td>\n",
       "      <td>10</td>\n",
       "      <td>0.095238</td>\n",
       "      <td>0.095238</td>\n",
       "    </tr>\n",
       "    <tr>\n",
       "      <th>1</th>\n",
       "      <td>2020-10-01</td>\n",
       "      <td>Morning</td>\n",
       "      <td>WA</td>\n",
       "      <td>Men</td>\n",
       "      <td>8</td>\n",
       "      <td>20000</td>\n",
       "      <td>1</td>\n",
       "      <td>10</td>\n",
       "      <td>0.095238</td>\n",
       "      <td>0.095238</td>\n",
       "    </tr>\n",
       "    <tr>\n",
       "      <th>2</th>\n",
       "      <td>2020-10-01</td>\n",
       "      <td>Morning</td>\n",
       "      <td>WA</td>\n",
       "      <td>Women</td>\n",
       "      <td>4</td>\n",
       "      <td>10000</td>\n",
       "      <td>1</td>\n",
       "      <td>10</td>\n",
       "      <td>0.031746</td>\n",
       "      <td>0.031746</td>\n",
       "    </tr>\n",
       "    <tr>\n",
       "      <th>3</th>\n",
       "      <td>2020-10-01</td>\n",
       "      <td>Morning</td>\n",
       "      <td>WA</td>\n",
       "      <td>Seniors</td>\n",
       "      <td>15</td>\n",
       "      <td>37500</td>\n",
       "      <td>1</td>\n",
       "      <td>10</td>\n",
       "      <td>0.206349</td>\n",
       "      <td>0.206349</td>\n",
       "    </tr>\n",
       "    <tr>\n",
       "      <th>4</th>\n",
       "      <td>2020-10-01</td>\n",
       "      <td>Afternoon</td>\n",
       "      <td>WA</td>\n",
       "      <td>Kids</td>\n",
       "      <td>3</td>\n",
       "      <td>7500</td>\n",
       "      <td>1</td>\n",
       "      <td>10</td>\n",
       "      <td>0.015873</td>\n",
       "      <td>0.015873</td>\n",
       "    </tr>\n",
       "  </tbody>\n",
       "</table>\n",
       "</div>"
      ],
      "text/plain": [
       "        Date        Time State     Group  Unit  Sales  DateAlone  Month  \\\n",
       "0 2020-10-01     Morning    WA      Kids     8  20000          1     10   \n",
       "1 2020-10-01     Morning    WA       Men     8  20000          1     10   \n",
       "2 2020-10-01     Morning    WA     Women     4  10000          1     10   \n",
       "3 2020-10-01     Morning    WA   Seniors    15  37500          1     10   \n",
       "4 2020-10-01   Afternoon    WA      Kids     3   7500          1     10   \n",
       "\n",
       "   Sales_scaled  Unit_scaled  \n",
       "0      0.095238     0.095238  \n",
       "1      0.095238     0.095238  \n",
       "2      0.031746     0.031746  \n",
       "3      0.206349     0.206349  \n",
       "4      0.015873     0.015873  "
      ]
     },
     "execution_count": 23,
     "metadata": {},
     "output_type": "execute_result"
    }
   ],
   "source": [
    "from sklearn.preprocessing import MinMaxScaler\n",
    "mms = MinMaxScaler()\n",
    "mms.fit(df_working[['Sales']])\n",
    "\n",
    "df_working['Sales_scaled'] = mms.transform(df_working[['Sales']])\n",
    "mms.fit(df_working[['Unit']])\n",
    "df_working['Unit_scaled'] = mms.transform(df_working[['Unit']])\n",
    "\n",
    "df_working.head()"
   ]
  },
  {
   "cell_type": "code",
   "execution_count": 26,
   "id": "0879047e-2f53-47c2-84ff-6c6a3a16b966",
   "metadata": {},
   "outputs": [
    {
     "name": "stdout",
     "output_type": "stream",
     "text": [
      "         Date     Sales\n",
      "0  2020-10-04  15045000\n",
      "1  2020-10-11  27002500\n",
      "2  2020-10-18  26640000\n",
      "3  2020-10-25  26815000\n",
      "4  2020-11-01  21807500\n",
      "5  2020-11-08  20865000\n",
      "6  2020-11-15  21172500\n",
      "7  2020-11-22  21112500\n",
      "8  2020-11-29  21477500\n",
      "9  2020-12-06  29622500\n",
      "10 2020-12-13  31525000\n",
      "11 2020-12-20  31655000\n",
      "12 2020-12-27  31770000\n",
      "13 2021-01-03  13792500\n",
      "        Date      Sales\n",
      "0 2020-10-31  114290000\n",
      "1 2020-11-30   90682500\n",
      "2 2020-12-31  135330000\n"
     ]
    }
   ],
   "source": [
    "weekly_report = df_working.groupby(pd.Grouper(key='Date', freq='W')).agg({'Sales': 'sum'}).reset_index()\n",
    "monthly_report = df_working.groupby(pd.Grouper(key='Date', freq='ME')).agg({'Sales': 'sum'}).reset_index()\n",
    "print(weekly_report)\n",
    "print(monthly_report)"
   ]
  },
  {
   "cell_type": "markdown",
   "id": "5b132984-852d-4ecb-9a27-c532c5dc988d",
   "metadata": {},
   "source": [
    "# DATA VISULAIZATION\n",
    "## State-wise Sales Analysis"
   ]
  },
  {
   "cell_type": "code",
   "execution_count": 31,
   "id": "09e4ad3e-e671-4e10-9fef-804dececbc96",
   "metadata": {},
   "outputs": [
    {
     "data": {
      "image/png": "[encoded data removed]",
      "text/plain": [
       "<Figure size 1500x1000 with 1 Axes>"
      ]
     },
     "metadata": {},
     "output_type": "display_data"
    }
   ],
   "source": [
    "plt.figure(figsize=(15, 10))\n",
    "sns.barplot(data=df_working, x='State', y='Sales', color='Hotpink')\n",
    "plt.show()"
   ]
  },
  {
   "cell_type": "markdown",
   "id": "deb5f7a0-164a-4956-881f-5ad39c96ecd4",
   "metadata": {},
   "source": [
    "### Victoria and New South Wales are the most profitable states"
   ]
  },
  {
   "cell_type": "code",
   "execution_count": 55,
   "id": "b559241b-b512-4ab9-9f84-678f51346ca7",
   "metadata": {},
   "outputs": [
    {
     "data": {
      "image/png": "[encoded data removed]",
      "text/plain": [
       "<Figure size 1000x1000 with 1 Axes>"
      ]
     },
     "metadata": {},
     "output_type": "display_data"
    }
   ],
   "source": [
    "plt.figure(figsize=(10, 10))\n",
    "sns.barplot(data=df_working, x='State', y='Sales', hue='Group')\n",
    "#plt.show()\n",
    "plt.title('State-wise Sales for Different Demographic Groups')\n",
    "plt.xlabel('State')\n",
    "plt.ylabel('Sales')\n",
    "plt.xticks(rotation=45)\n",
    "plt.tight_layout()\n",
    "plt.legend(title='Demographic Group')\n",
    "plt.show()"
   ]
  },
  {
   "cell_type": "markdown",
   "id": "668e5f9f-f424-49c1-8da9-6a4e65e5ce1e",
   "metadata": {},
   "source": [
    "### Queensland has the most KIDS sales - An interesting fact"
   ]
  },
  {
   "cell_type": "code",
   "execution_count": 57,
   "id": "d04f3fa8-950f-485c-bde8-056e7c30cefc",
   "metadata": {},
   "outputs": [
    {
     "name": "stdout",
     "output_type": "stream",
     "text": [
      "Group\n",
      "Kids       45011.904762\n",
      "Men        45370.370370\n",
      "Seniors    44464.285714\n",
      "Women      45207.671958\n",
      "Name: Sales, dtype: float64\n"
     ]
    }
   ],
   "source": [
    "Just_avg = df_working.groupby('Group').Sales.mean()\n",
    "print(Just_avg)"
   ]
  },
  {
   "cell_type": "code",
   "execution_count": 65,
   "id": "03bd8c5d-c3e2-4188-a77b-aa7703bc0648",
   "metadata": {},
   "outputs": [
    {
     "data": {
      "text/plain": [
       "<Axes: xlabel='Group', ylabel='Sales'>"
      ]
     },
     "execution_count": 65,
     "metadata": {},
     "output_type": "execute_result"
    },
    {
     "data": {
      "image/png": "[encoded data removed]",
      "text/plain": [
       "<Figure size 640x480 with 1 Axes>"
      ]
     },
     "metadata": {},
     "output_type": "display_data"
    }
   ],
   "source": [
    "sns.barplot(Just_avg)"
   ]
  },
  {
   "cell_type": "markdown",
   "id": "6eb403d0-fabd-43ca-813c-5aacf6639a5d",
   "metadata": {},
   "source": [
    "#### Grouping data according to the 'Time' to calculate total and average sales for each time category"
   ]
  },
  {
   "cell_type": "code",
   "execution_count": 70,
   "id": "ecd2ffa4-be64-426e-b985-6b537ec29886",
   "metadata": {},
   "outputs": [
    {
     "data": {
      "text/html": [
       "<div>\n",
       "<style scoped>\n",
       "    .dataframe tbody tr th:only-of-type {\n",
       "        vertical-align: middle;\n",
       "    }\n",
       "\n",
       "    .dataframe tbody tr th {\n",
       "        vertical-align: top;\n",
       "    }\n",
       "\n",
       "    .dataframe thead th {\n",
       "        text-align: right;\n",
       "    }\n",
       "</style>\n",
       "<table border=\"1\" class=\"dataframe\">\n",
       "  <thead>\n",
       "    <tr style=\"text-align: right;\">\n",
       "      <th></th>\n",
       "      <th>Time</th>\n",
       "      <th>sum</th>\n",
       "      <th>mean</th>\n",
       "    </tr>\n",
       "  </thead>\n",
       "  <tbody>\n",
       "    <tr>\n",
       "      <th>0</th>\n",
       "      <td>Afternoon</td>\n",
       "      <td>114007500</td>\n",
       "      <td>45241.071429</td>\n",
       "    </tr>\n",
       "    <tr>\n",
       "      <th>1</th>\n",
       "      <td>Evening</td>\n",
       "      <td>112087500</td>\n",
       "      <td>44479.166667</td>\n",
       "    </tr>\n",
       "    <tr>\n",
       "      <th>2</th>\n",
       "      <td>Morning</td>\n",
       "      <td>114207500</td>\n",
       "      <td>45320.436508</td>\n",
       "    </tr>\n",
       "  </tbody>\n",
       "</table>\n",
       "</div>"
      ],
      "text/plain": [
       "         Time        sum          mean\n",
       "0   Afternoon  114007500  45241.071429\n",
       "1     Evening  112087500  44479.166667\n",
       "2     Morning  114207500  45320.436508"
      ]
     },
     "execution_count": 70,
     "metadata": {},
     "output_type": "execute_result"
    }
   ],
   "source": [
    "time_analysis = df_working.groupby('Time')['Sales'].agg(['sum', 'mean']).reset_index()\n",
    "\n",
    "time_analysis"
   ]
  },
  {
   "cell_type": "code",
   "execution_count": 76,
   "id": "735ddb72-1fae-4b34-84b1-f35d1b2f731f",
   "metadata": {},
   "outputs": [
    {
     "data": {
      "text/html": [
       "<div>\n",
       "<style scoped>\n",
       "    .dataframe tbody tr th:only-of-type {\n",
       "        vertical-align: middle;\n",
       "    }\n",
       "\n",
       "    .dataframe tbody tr th {\n",
       "        vertical-align: top;\n",
       "    }\n",
       "\n",
       "    .dataframe thead th {\n",
       "        text-align: right;\n",
       "    }\n",
       "</style>\n",
       "<table border=\"1\" class=\"dataframe\">\n",
       "  <thead>\n",
       "    <tr style=\"text-align: right;\">\n",
       "      <th></th>\n",
       "      <th>Time</th>\n",
       "      <th>sum</th>\n",
       "      <th>mean</th>\n",
       "    </tr>\n",
       "  </thead>\n",
       "  <tbody>\n",
       "    <tr>\n",
       "      <th>2</th>\n",
       "      <td>Morning</td>\n",
       "      <td>114207500</td>\n",
       "      <td>45320.436508</td>\n",
       "    </tr>\n",
       "    <tr>\n",
       "      <th>0</th>\n",
       "      <td>Afternoon</td>\n",
       "      <td>114007500</td>\n",
       "      <td>45241.071429</td>\n",
       "    </tr>\n",
       "    <tr>\n",
       "      <th>1</th>\n",
       "      <td>Evening</td>\n",
       "      <td>112087500</td>\n",
       "      <td>44479.166667</td>\n",
       "    </tr>\n",
       "  </tbody>\n",
       "</table>\n",
       "</div>"
      ],
      "text/plain": [
       "         Time        sum          mean\n",
       "2     Morning  114207500  45320.436508\n",
       "0   Afternoon  114007500  45241.071429\n",
       "1     Evening  112087500  44479.166667"
      ]
     },
     "execution_count": 76,
     "metadata": {},
     "output_type": "execute_result"
    }
   ],
   "source": [
    "time_analysis = time_analysis.sort_values('sum', ascending=False)\n",
    "time_analysis"
   ]
  },
  {
   "cell_type": "code",
   "execution_count": 80,
   "id": "b339b5a7-258f-433f-809e-918ebb633435",
   "metadata": {},
   "outputs": [
    {
     "name": "stdout",
     "output_type": "stream",
     "text": [
      "         Time  Total Sales  Average Sales\n",
      "2     Morning    114207500   45320.436508\n",
      "0   Afternoon    114007500   45241.071429\n",
      "1     Evening    112087500   44479.166667\n"
     ]
    }
   ],
   "source": [
    "time_analysis.rename(columns={'sum': 'Total Sales', 'mean': 'Average Sales'}, inplace=True)\n",
    "#for understanding of the S&M Team.\n",
    "print(time_analysis)"
   ]
  },
  {
   "cell_type": "markdown",
   "id": "1d890f63-b084-4775-8fd3-8f07c6dce772",
   "metadata": {},
   "source": [
    "## Morning is the peak sale period with an average amount of 45 thousand dollars\n",
    "## Evenings have a slower pace ie, off-peak sale period"
   ]
  },
  {
   "cell_type": "code",
   "execution_count": 99,
   "id": "c4244ed1-1dc8-4106-a14b-54b37f181007",
   "metadata": {},
   "outputs": [],
   "source": [
    "df_working['Date'] = pd.to_datetime(df_working['Date'])\n",
    "#df_working['Date'].dtype"
   ]
  },
  {
   "cell_type": "code",
   "execution_count": 101,
   "id": "a38193be-35fd-40f5-abed-aa8a8a033d7b",
   "metadata": {},
   "outputs": [
    {
     "data": {
      "text/plain": [
       "dtype('<M8[ns]')"
      ]
     },
     "execution_count": 101,
     "metadata": {},
     "output_type": "execute_result"
    }
   ],
   "source": [
    "df_working['Date'].dtype"
   ]
  },
  {
   "cell_type": "code",
   "execution_count": 103,
   "id": "5403b35a-390c-466c-b963-5e799f51afc2",
   "metadata": {},
   "outputs": [
    {
     "name": "stdout",
     "output_type": "stream",
     "text": [
      "         Date    Sales\n",
      "0  2020-10-01  3720000\n",
      "1  2020-10-02  3715000\n",
      "2  2020-10-03  3890000\n",
      "3  2020-10-04  3720000\n",
      "4  2020-10-05  3862500\n",
      "..        ...      ...\n",
      "85 2020-12-26  4715000\n",
      "86 2020-12-27  4637500\n",
      "87 2020-12-28  4595000\n",
      "88 2020-12-29  4607500\n",
      "89 2020-12-30  4590000\n",
      "\n",
      "[90 rows x 2 columns]\n"
     ]
    }
   ],
   "source": [
    "daily_sales = df_working.groupby('Date')['Sales'].sum().reset_index()\n",
    "print(daily_sales)"
   ]
  },
  {
   "cell_type": "code",
   "execution_count": 113,
   "id": "caf0a570-3c4a-4394-8e21-ccad1c1a09d3",
   "metadata": {},
   "outputs": [
    {
     "data": {
      "image/png": "[encoded data removed]",
      "text/plain": [
       "<Figure size 1200x600 with 1 Axes>"
      ]
     },
     "metadata": {},
     "output_type": "display_data"
    }
   ],
   "source": [
    "plt.figure(figsize=(12, 6))\n",
    "plt.bar(daily_sales['Date'], daily_sales['Sales'], color='skyblue', edgecolor='black')\n",
    "plt.title('Daily Sales')\n",
    "plt.xlabel('Date')\n",
    "plt.ylabel('Total Sales')\n",
    "#plt.tight_layout()\n",
    "plt.show()"
   ]
  },
  {
   "cell_type": "code",
   "execution_count": 120,
   "id": "13f121a1-6494-4da3-9c6d-9aa33913180c",
   "metadata": {},
   "outputs": [
    {
     "name": "stdout",
     "output_type": "stream",
     "text": [
      "Date     2020-12-30 00:00:00\n",
      "Sales                4765000\n",
      "dtype: object\n"
     ]
    }
   ],
   "source": [
    "print(daily_sales.max())"
   ]
  },
  {
   "cell_type": "markdown",
   "id": "99a85be0-8641-4f11-8be3-ff66106dfaed",
   "metadata": {},
   "source": [
    "## Dec 30th is the highest earning date for AAL"
   ]
  },
  {
   "cell_type": "code",
   "execution_count": 124,
   "id": "08844d8e-23ea-47cc-b88f-e3890157efde",
   "metadata": {},
   "outputs": [
    {
     "name": "stdout",
     "output_type": "stream",
     "text": [
      "           Date        Time State     Group  Unit  Sales  DateAlone  Month  \\\n",
      "0    2020-10-01     Morning    WA      Kids     8  20000          1     10   \n",
      "1    2020-10-01     Morning    WA       Men     8  20000          1     10   \n",
      "2    2020-10-01     Morning    WA     Women     4  10000          1     10   \n",
      "3    2020-10-01     Morning    WA   Seniors    15  37500          1     10   \n",
      "4    2020-10-01   Afternoon    WA      Kids     3   7500          1     10   \n",
      "...         ...         ...   ...       ...   ...    ...        ...    ...   \n",
      "7555 2020-12-30   Afternoon   TAS   Seniors    14  35000         30     12   \n",
      "7556 2020-12-30     Evening   TAS      Kids    15  37500         30     12   \n",
      "7557 2020-12-30     Evening   TAS       Men    15  37500         30     12   \n",
      "7558 2020-12-30     Evening   TAS     Women    11  27500         30     12   \n",
      "7559 2020-12-30     Evening   TAS   Seniors    13  32500         30     12   \n",
      "\n",
      "      Sales_scaled  Unit_scaled  Week  \n",
      "0         0.095238     0.095238    40  \n",
      "1         0.095238     0.095238    40  \n",
      "2         0.031746     0.031746    40  \n",
      "3         0.206349     0.206349    40  \n",
      "4         0.015873     0.015873    40  \n",
      "...            ...          ...   ...  \n",
      "7555      0.190476     0.190476    53  \n",
      "7556      0.206349     0.206349    53  \n",
      "7557      0.206349     0.206349    53  \n",
      "7558      0.142857     0.142857    53  \n",
      "7559      0.174603     0.174603    53  \n",
      "\n",
      "[7560 rows x 11 columns]\n"
     ]
    }
   ],
   "source": [
    "df_working['Week'] = df_working['Date'].dt.isocalendar().week\n",
    "print(df_working)"
   ]
  },
  {
   "cell_type": "code",
   "execution_count": 133,
   "id": "e23ccaee-6efa-4937-bcd4-7ffbdc9b45a6",
   "metadata": {},
   "outputs": [
    {
     "data": {
      "text/plain": [
       "Text(0, 0.5, 'Sales')"
      ]
     },
     "execution_count": 133,
     "metadata": {},
     "output_type": "execute_result"
    },
    {
     "data": {
      "image/png": "[encoded data removed]",
      "text/plain": [
       "<Figure size 640x480 with 1 Axes>"
      ]
     },
     "metadata": {},
     "output_type": "display_data"
    }
   ],
   "source": [
    "plt.plot(daily_sales['Date'], daily_sales['Sales'], marker='o', color='b')\n",
    "plt.title('Daily Sales')\n",
    "plt.xlabel('Date')\n",
    "plt.ylabel('Sales')"
   ]
  },
  {
   "cell_type": "code",
   "execution_count": 149,
   "id": "f19e716b-f953-41a8-ad95-068c5831c82c",
   "metadata": {},
   "outputs": [],
   "source": [
    "df_try = df_working\n",
    "\n",
    "#df_working = pd.DataFrame(df_working).set_index('Week')"
   ]
  },
  {
   "cell_type": "code",
   "execution_count": 155,
   "id": "0aa2af72-cd86-417c-ad05-337e13bcd496",
   "metadata": {},
   "outputs": [
    {
     "data": {
      "text/html": [
       "<div>\n",
       "<style scoped>\n",
       "    .dataframe tbody tr th:only-of-type {\n",
       "        vertical-align: middle;\n",
       "    }\n",
       "\n",
       "    .dataframe tbody tr th {\n",
       "        vertical-align: top;\n",
       "    }\n",
       "\n",
       "    .dataframe thead th {\n",
       "        text-align: right;\n",
       "    }\n",
       "</style>\n",
       "<table border=\"1\" class=\"dataframe\">\n",
       "  <thead>\n",
       "    <tr style=\"text-align: right;\">\n",
       "      <th></th>\n",
       "      <th>Date</th>\n",
       "      <th>Time</th>\n",
       "      <th>State</th>\n",
       "      <th>Group</th>\n",
       "      <th>Unit</th>\n",
       "      <th>Sales</th>\n",
       "      <th>DateAlone</th>\n",
       "      <th>Month</th>\n",
       "      <th>Sales_scaled</th>\n",
       "      <th>Unit_scaled</th>\n",
       "    </tr>\n",
       "    <tr>\n",
       "      <th>Week</th>\n",
       "      <th></th>\n",
       "      <th></th>\n",
       "      <th></th>\n",
       "      <th></th>\n",
       "      <th></th>\n",
       "      <th></th>\n",
       "      <th></th>\n",
       "      <th></th>\n",
       "      <th></th>\n",
       "      <th></th>\n",
       "    </tr>\n",
       "  </thead>\n",
       "  <tbody>\n",
       "    <tr>\n",
       "      <th>40</th>\n",
       "      <td>2020-10-01</td>\n",
       "      <td>Morning</td>\n",
       "      <td>WA</td>\n",
       "      <td>Kids</td>\n",
       "      <td>8</td>\n",
       "      <td>20000</td>\n",
       "      <td>1</td>\n",
       "      <td>10</td>\n",
       "      <td>0.095238</td>\n",
       "      <td>0.095238</td>\n",
       "    </tr>\n",
       "    <tr>\n",
       "      <th>40</th>\n",
       "      <td>2020-10-01</td>\n",
       "      <td>Morning</td>\n",
       "      <td>WA</td>\n",
       "      <td>Men</td>\n",
       "      <td>8</td>\n",
       "      <td>20000</td>\n",
       "      <td>1</td>\n",
       "      <td>10</td>\n",
       "      <td>0.095238</td>\n",
       "      <td>0.095238</td>\n",
       "    </tr>\n",
       "    <tr>\n",
       "      <th>40</th>\n",
       "      <td>2020-10-01</td>\n",
       "      <td>Morning</td>\n",
       "      <td>WA</td>\n",
       "      <td>Women</td>\n",
       "      <td>4</td>\n",
       "      <td>10000</td>\n",
       "      <td>1</td>\n",
       "      <td>10</td>\n",
       "      <td>0.031746</td>\n",
       "      <td>0.031746</td>\n",
       "    </tr>\n",
       "    <tr>\n",
       "      <th>40</th>\n",
       "      <td>2020-10-01</td>\n",
       "      <td>Morning</td>\n",
       "      <td>WA</td>\n",
       "      <td>Seniors</td>\n",
       "      <td>15</td>\n",
       "      <td>37500</td>\n",
       "      <td>1</td>\n",
       "      <td>10</td>\n",
       "      <td>0.206349</td>\n",
       "      <td>0.206349</td>\n",
       "    </tr>\n",
       "    <tr>\n",
       "      <th>40</th>\n",
       "      <td>2020-10-01</td>\n",
       "      <td>Afternoon</td>\n",
       "      <td>WA</td>\n",
       "      <td>Kids</td>\n",
       "      <td>3</td>\n",
       "      <td>7500</td>\n",
       "      <td>1</td>\n",
       "      <td>10</td>\n",
       "      <td>0.015873</td>\n",
       "      <td>0.015873</td>\n",
       "    </tr>\n",
       "    <tr>\n",
       "      <th>...</th>\n",
       "      <td>...</td>\n",
       "      <td>...</td>\n",
       "      <td>...</td>\n",
       "      <td>...</td>\n",
       "      <td>...</td>\n",
       "      <td>...</td>\n",
       "      <td>...</td>\n",
       "      <td>...</td>\n",
       "      <td>...</td>\n",
       "      <td>...</td>\n",
       "    </tr>\n",
       "    <tr>\n",
       "      <th>53</th>\n",
       "      <td>2020-12-30</td>\n",
       "      <td>Afternoon</td>\n",
       "      <td>TAS</td>\n",
       "      <td>Seniors</td>\n",
       "      <td>14</td>\n",
       "      <td>35000</td>\n",
       "      <td>30</td>\n",
       "      <td>12</td>\n",
       "      <td>0.190476</td>\n",
       "      <td>0.190476</td>\n",
       "    </tr>\n",
       "    <tr>\n",
       "      <th>53</th>\n",
       "      <td>2020-12-30</td>\n",
       "      <td>Evening</td>\n",
       "      <td>TAS</td>\n",
       "      <td>Kids</td>\n",
       "      <td>15</td>\n",
       "      <td>37500</td>\n",
       "      <td>30</td>\n",
       "      <td>12</td>\n",
       "      <td>0.206349</td>\n",
       "      <td>0.206349</td>\n",
       "    </tr>\n",
       "    <tr>\n",
       "      <th>53</th>\n",
       "      <td>2020-12-30</td>\n",
       "      <td>Evening</td>\n",
       "      <td>TAS</td>\n",
       "      <td>Men</td>\n",
       "      <td>15</td>\n",
       "      <td>37500</td>\n",
       "      <td>30</td>\n",
       "      <td>12</td>\n",
       "      <td>0.206349</td>\n",
       "      <td>0.206349</td>\n",
       "    </tr>\n",
       "    <tr>\n",
       "      <th>53</th>\n",
       "      <td>2020-12-30</td>\n",
       "      <td>Evening</td>\n",
       "      <td>TAS</td>\n",
       "      <td>Women</td>\n",
       "      <td>11</td>\n",
       "      <td>27500</td>\n",
       "      <td>30</td>\n",
       "      <td>12</td>\n",
       "      <td>0.142857</td>\n",
       "      <td>0.142857</td>\n",
       "    </tr>\n",
       "    <tr>\n",
       "      <th>53</th>\n",
       "      <td>2020-12-30</td>\n",
       "      <td>Evening</td>\n",
       "      <td>TAS</td>\n",
       "      <td>Seniors</td>\n",
       "      <td>13</td>\n",
       "      <td>32500</td>\n",
       "      <td>30</td>\n",
       "      <td>12</td>\n",
       "      <td>0.174603</td>\n",
       "      <td>0.174603</td>\n",
       "    </tr>\n",
       "  </tbody>\n",
       "</table>\n",
       "<p>7560 rows × 10 columns</p>\n",
       "</div>"
      ],
      "text/plain": [
       "           Date        Time State     Group  Unit  Sales  DateAlone  Month  \\\n",
       "Week                                                                         \n",
       "40   2020-10-01     Morning    WA      Kids     8  20000          1     10   \n",
       "40   2020-10-01     Morning    WA       Men     8  20000          1     10   \n",
       "40   2020-10-01     Morning    WA     Women     4  10000          1     10   \n",
       "40   2020-10-01     Morning    WA   Seniors    15  37500          1     10   \n",
       "40   2020-10-01   Afternoon    WA      Kids     3   7500          1     10   \n",
       "...         ...         ...   ...       ...   ...    ...        ...    ...   \n",
       "53   2020-12-30   Afternoon   TAS   Seniors    14  35000         30     12   \n",
       "53   2020-12-30     Evening   TAS      Kids    15  37500         30     12   \n",
       "53   2020-12-30     Evening   TAS       Men    15  37500         30     12   \n",
       "53   2020-12-30     Evening   TAS     Women    11  27500         30     12   \n",
       "53   2020-12-30     Evening   TAS   Seniors    13  32500         30     12   \n",
       "\n",
       "      Sales_scaled  Unit_scaled  \n",
       "Week                             \n",
       "40        0.095238     0.095238  \n",
       "40        0.095238     0.095238  \n",
       "40        0.031746     0.031746  \n",
       "40        0.206349     0.206349  \n",
       "40        0.015873     0.015873  \n",
       "...            ...          ...  \n",
       "53        0.190476     0.190476  \n",
       "53        0.206349     0.206349  \n",
       "53        0.206349     0.206349  \n",
       "53        0.142857     0.142857  \n",
       "53        0.174603     0.174603  \n",
       "\n",
       "[7560 rows x 10 columns]"
      ]
     },
     "execution_count": 155,
     "metadata": {},
     "output_type": "execute_result"
    }
   ],
   "source": [
    "#df_try = pd.DataFrame(df_working).set_index('Week')\n",
    "df_try"
   ]
  },
  {
   "cell_type": "markdown",
   "id": "c328155c-d961-42e7-b544-9d8900186091",
   "metadata": {},
   "source": [
    "# Weekly Sales Bar Chart"
   ]
  },
  {
   "cell_type": "code",
   "execution_count": 170,
   "id": "06b663da-47d9-47b0-a49b-e03fc4cde246",
   "metadata": {},
   "outputs": [
    {
     "data": {
      "image/png": "[encoded data removed]",
      "text/plain": [
       "<Figure size 640x480 with 1 Axes>"
      ]
     },
     "metadata": {},
     "output_type": "display_data"
    }
   ],
   "source": [
    "weekly_sales = df_working.groupby('Week')['Sales'].sum().reset_index()\n",
    "plt.bar(weekly_sales['Week'], weekly_sales['Sales'], color='gray')\n",
    "plt.title('Weekly Sales')\n",
    "plt.xlabel('Week Number')\n",
    "plt.ylabel('Total Sales Figures')\n",
    "\n",
    "plt.show()\n"
   ]
  },
  {
   "cell_type": "code",
   "execution_count": 178,
   "id": "8772cd47-e592-43b7-87fd-a858876d5e7e",
   "metadata": {},
   "outputs": [
    {
     "data": {
      "text/plain": [
       "Text(0, 0.5, 'Sales')"
      ]
     },
     "execution_count": 178,
     "metadata": {},
     "output_type": "execute_result"
    },
    {
     "data": {
      "image/png": "[encoded data removed]",
      "text/plain": [
       "<Figure size 640x480 with 1 Axes>"
      ]
     },
     "metadata": {},
     "output_type": "display_data"
    }
   ],
   "source": [
    "monthly_sales = df_working.groupby('Month')['Sales'].sum().reset_index()\n",
    "\n",
    "plt.bar(monthly_sales['Month'].astype(str), monthly_sales['Sales'], color='lightblue')\n",
    "plt.title('Monthly Sales')\n",
    "plt.xlabel('Month - Oct, Nov and Dec')\n",
    "plt.ylabel('Sales')"
   ]
  },
  {
   "cell_type": "markdown",
   "id": "89c395b4-5a63-41fd-8ece-372733ae6a09",
   "metadata": {},
   "source": [
    "# Matplotlib is more easy and efficient to use.\n",
    "# Bar plots are easy to interpret even for a non-technical person"
   ]
  },
  {
   "cell_type": "code",
   "execution_count": null,
   "id": "d921bc5a-c91a-4be8-800b-feaa737db7f1",
   "metadata": {},
   "outputs": [],
   "source": []
  }
 ],
 "metadata": {
  "kernelspec": {
   "display_name": "Python 3 (ipykernel)",
   "language": "python",
   "name": "python3"
  },
  "language_info": {
   "codemirror_mode": {
    "name": "ipython",
    "version": 3
   },
   "file_extension": ".py",
   "mimetype": "text/x-python",
   "name": "python",
   "nbconvert_exporter": "python",
   "pygments_lexer": "ipython3",
   "version": "3.12.7"
  }
 },
 "nbformat": 4,
 "nbformat_minor": 5
}
